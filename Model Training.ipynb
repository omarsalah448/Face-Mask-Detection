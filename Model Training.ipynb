{
 "cells": [
  {
   "cell_type": "markdown",
   "id": "acb6cc83",
   "metadata": {},
   "source": [
    "## Realtime Face Mask Detection Project "
   ]
  },
  {
   "cell_type": "markdown",
   "id": "40e59c81",
   "metadata": {},
   "source": [
    "### Huge thanks to Sparks Foundations and pyimagesearch for making this project possible"
   ]
  },
  {
   "cell_type": "markdown",
   "id": "a2ad863c",
   "metadata": {},
   "source": [
    "### Importing the libraries"
   ]
  },
  {
   "cell_type": "code",
   "execution_count": 2,
   "id": "021b1436",
   "metadata": {},
   "outputs": [],
   "source": [
    "import os\n",
    "import numpy as np\n",
    "import matplotlib.pyplot as plt\n",
    "from sklearn.preprocessing import LabelBinarizer\n",
    "from tensorflow.keras.preprocessing.image import ImageDataGenerator, img_to_array, load_img\n",
    "\n",
    "from tensorflow.keras.applications import MobileNetV2\n",
    "from tensorflow.keras.applications.mobilenet_v2 import preprocess_input\n",
    "from tensorflow.keras.optimizers import Adam\n",
    "\n",
    "from tensorflow.keras.layers import AveragePooling2D, Dropout, Flatten, Dense, Input\n",
    "from tensorflow.keras.models import Model\n",
    "from tensorflow.keras.utils import to_categorical\n",
    "\n",
    "from sklearn.model_selection import train_test_split\n",
    "from sklearn.metrics import classification_report\n",
    "from imutils import paths"
   ]
  },
  {
   "cell_type": "markdown",
   "id": "8f181643",
   "metadata": {},
   "source": [
    "### defining our constants"
   ]
  },
  {
   "cell_type": "code",
   "execution_count": 3,
   "id": "bcdbe5d9",
   "metadata": {},
   "outputs": [],
   "source": [
    "INIT_LR = 1e-4\n",
    "EPOCHS = 20\n",
    "BS = 32"
   ]
  },
  {
   "cell_type": "code",
   "execution_count": 6,
   "id": "a3b48a11",
   "metadata": {},
   "outputs": [],
   "source": [
    "path_dir = os.path.join('dataset')\n",
    "classes = [\"with_mask\", \"without_mask\"]"
   ]
  },
  {
   "cell_type": "markdown",
   "id": "b1e8ea37",
   "metadata": {},
   "source": [
    "### preprocessing the data"
   ]
  },
  {
   "cell_type": "code",
   "execution_count": 7,
   "id": "bc667488",
   "metadata": {},
   "outputs": [
    {
     "name": "stderr",
     "output_type": "stream",
     "text": [
      "C:\\Users\\20112\\AppData\\Roaming\\Python\\Python38\\site-packages\\PIL\\Image.py:988: UserWarning: Palette images with Transparency expressed in bytes should be converted to RGBA images\n",
      "  warnings.warn(\n"
     ]
    }
   ],
   "source": [
    "data = []\n",
    "labels = []\n",
    "for cl in classes:\n",
    "    path = os.path.join(path_dir, cl)\n",
    "    for img in os.listdir(path):\n",
    "        img_path = os.path.join(path, img)\n",
    "        image = load_img(img_path, target_size=(224, 224))\n",
    "        image = img_to_array(image)\n",
    "        # scaling the pixel intensities in the input image to the range [-1, 1] \n",
    "        image = preprocess_input(image)\n",
    "\n",
    "        data.append(image)\n",
    "        labels.append(cl)"
   ]
  },
  {
   "cell_type": "code",
   "execution_count": 8,
   "id": "0c4d66d2",
   "metadata": {},
   "outputs": [
    {
     "data": {
      "text/plain": [
       "3833"
      ]
     },
     "execution_count": 8,
     "metadata": {},
     "output_type": "execute_result"
    }
   ],
   "source": [
    "len(labels)"
   ]
  },
  {
   "cell_type": "code",
   "execution_count": 9,
   "id": "bf296e93",
   "metadata": {},
   "outputs": [],
   "source": [
    "# perform one-hot encoding on the labels\n",
    "lb = LabelBinarizer()\n",
    "labels = lb.fit_transform(labels)\n",
    "labels = to_categorical(labels)"
   ]
  },
  {
   "cell_type": "code",
   "execution_count": 10,
   "id": "724fea1f",
   "metadata": {},
   "outputs": [],
   "source": [
    "data = np.array(data, dtype=\"float32\")\n",
    "labels = np.array(labels)"
   ]
  },
  {
   "cell_type": "markdown",
   "id": "caba214b",
   "metadata": {},
   "source": [
    "### Splitting the data then performing data augmentation"
   ]
  },
  {
   "cell_type": "code",
   "execution_count": 11,
   "id": "ae2eb85f",
   "metadata": {},
   "outputs": [],
   "source": [
    "(trainX, testX, trainY, testY) = train_test_split(data, labels, test_size=0.20, stratify=labels, random_state=0)"
   ]
  },
  {
   "cell_type": "code",
   "execution_count": 12,
   "id": "99fa37c1",
   "metadata": {},
   "outputs": [],
   "source": [
    "# construct the training image generator for data augmentation\n",
    "aug = ImageDataGenerator(\n",
    "    rotation_range=20,\n",
    "    zoom_range=0.15,\n",
    "    width_shift_range=0.2,\n",
    "    height_shift_range=0.2,\n",
    "    shear_range=0.15,\n",
    "    horizontal_flip=True,\n",
    "    fill_mode=\"nearest\")"
   ]
  },
  {
   "cell_type": "markdown",
   "id": "bfc62a31",
   "metadata": {},
   "source": [
    "### Performing transfer learning"
   ]
  },
  {
   "cell_type": "code",
   "execution_count": 13,
   "id": "ca4524dd",
   "metadata": {},
   "outputs": [
    {
     "name": "stdout",
     "output_type": "stream",
     "text": [
      "WARNING:tensorflow:`input_shape` is undefined or non-square, or `rows` is not in [96, 128, 160, 192, 224]. Weights for input shape (224, 224) will be loaded as the default.\n"
     ]
    }
   ],
   "source": [
    "# load the MobileNetV2 network, ensuring the head FC layer sets are left off\n",
    "baseModel = MobileNetV2(weights=\"imagenet\", include_top=False,\n",
    "    input_tensor=Input(shape=(224, 224, 3)))"
   ]
  },
  {
   "cell_type": "code",
   "execution_count": 14,
   "id": "50395fec",
   "metadata": {},
   "outputs": [],
   "source": [
    "# construct the head of the model that will be placed on top of the the base model\n",
    "headModel = baseModel.output\n",
    "headModel = AveragePooling2D(pool_size=(7, 7))(headModel)\n",
    "headModel = Flatten(name=\"flatten\")(headModel)\n",
    "headModel = Dense(128, activation=\"relu\")(headModel)\n",
    "headModel = Dropout(0.5)(headModel)\n",
    "headModel = Dense(2, activation=\"softmax\")(headModel)"
   ]
  },
  {
   "cell_type": "code",
   "execution_count": 15,
   "id": "c53782c1",
   "metadata": {},
   "outputs": [],
   "source": [
    "# place the head FC model on top of the base model (this will become the actual model we will train)\n",
    "model = Model(inputs=baseModel.input, outputs=headModel)\n",
    "\n",
    "# loop over all layers in the base model and freeze them so they will *not* be updated during the first training process\n",
    "for layer in baseModel.layers:\n",
    "    layer.trainable = False"
   ]
  },
  {
   "cell_type": "code",
   "execution_count": 16,
   "id": "e1b5cf71",
   "metadata": {},
   "outputs": [
    {
     "name": "stdout",
     "output_type": "stream",
     "text": [
      "[INFO] compiling model...\n"
     ]
    },
    {
     "name": "stderr",
     "output_type": "stream",
     "text": [
      "C:\\Users\\20112\\anaconda3\\lib\\site-packages\\keras\\optimizers\\optimizer_v2\\adam.py:110: UserWarning: The `lr` argument is deprecated, use `learning_rate` instead.\n",
      "  super(Adam, self).__init__(name, **kwargs)\n"
     ]
    }
   ],
   "source": [
    "# compile our model\n",
    "print(\"[INFO] compiling model...\")\n",
    "opt = Adam(lr=INIT_LR, decay=INIT_LR / EPOCHS)\n",
    "model.compile(loss=\"binary_crossentropy\", optimizer=opt,\n",
    "    metrics=[\"accuracy\"])"
   ]
  },
  {
   "cell_type": "code",
   "execution_count": 17,
   "id": "19cc8900",
   "metadata": {},
   "outputs": [
    {
     "name": "stdout",
     "output_type": "stream",
     "text": [
      "[INFO] training head...\n",
      "Epoch 1/20\n",
      "95/95 [==============================] - 147s 1s/step - loss: 0.4157 - accuracy: 0.8392 - val_loss: 0.1687 - val_accuracy: 0.9700\n",
      "Epoch 2/20\n",
      "95/95 [==============================] - 123s 1s/step - loss: 0.1507 - accuracy: 0.9614 - val_loss: 0.0972 - val_accuracy: 0.9778\n",
      "Epoch 3/20\n",
      "95/95 [==============================] - 114s 1s/step - loss: 0.1012 - accuracy: 0.9756 - val_loss: 0.0751 - val_accuracy: 0.9791\n",
      "Epoch 4/20\n",
      "95/95 [==============================] - 114s 1s/step - loss: 0.0797 - accuracy: 0.9773 - val_loss: 0.0661 - val_accuracy: 0.9817\n",
      "Epoch 5/20\n",
      "95/95 [==============================] - 115s 1s/step - loss: 0.0601 - accuracy: 0.9825 - val_loss: 0.0595 - val_accuracy: 0.9791\n",
      "Epoch 6/20\n",
      "95/95 [==============================] - 113s 1s/step - loss: 0.0581 - accuracy: 0.9838 - val_loss: 0.0559 - val_accuracy: 0.9804\n",
      "Epoch 7/20\n",
      "95/95 [==============================] - 114s 1s/step - loss: 0.0500 - accuracy: 0.9858 - val_loss: 0.0536 - val_accuracy: 0.9804\n",
      "Epoch 8/20\n",
      "95/95 [==============================] - 115s 1s/step - loss: 0.0401 - accuracy: 0.9908 - val_loss: 0.0504 - val_accuracy: 0.9831\n",
      "Epoch 9/20\n",
      "95/95 [==============================] - 116s 1s/step - loss: 0.0396 - accuracy: 0.9911 - val_loss: 0.0496 - val_accuracy: 0.9831\n",
      "Epoch 10/20\n",
      "95/95 [==============================] - 116s 1s/step - loss: 0.0389 - accuracy: 0.9881 - val_loss: 0.0466 - val_accuracy: 0.9844\n",
      "Epoch 11/20\n",
      "95/95 [==============================] - 113s 1s/step - loss: 0.0365 - accuracy: 0.9885 - val_loss: 0.0452 - val_accuracy: 0.9844\n",
      "Epoch 12/20\n",
      "95/95 [==============================] - 114s 1s/step - loss: 0.0333 - accuracy: 0.9888 - val_loss: 0.0439 - val_accuracy: 0.9844\n",
      "Epoch 13/20\n",
      "95/95 [==============================] - 114s 1s/step - loss: 0.0343 - accuracy: 0.9891 - val_loss: 0.0418 - val_accuracy: 0.9844\n",
      "Epoch 14/20\n",
      "95/95 [==============================] - 126s 1s/step - loss: 0.0324 - accuracy: 0.9898 - val_loss: 0.0432 - val_accuracy: 0.9883\n",
      "Epoch 15/20\n",
      "95/95 [==============================] - 150s 2s/step - loss: 0.0290 - accuracy: 0.9927 - val_loss: 0.0406 - val_accuracy: 0.9857\n",
      "Epoch 16/20\n",
      "95/95 [==============================] - 146s 2s/step - loss: 0.0292 - accuracy: 0.9911 - val_loss: 0.0401 - val_accuracy: 0.9857\n",
      "Epoch 17/20\n",
      "95/95 [==============================] - 149s 2s/step - loss: 0.0315 - accuracy: 0.9895 - val_loss: 0.0387 - val_accuracy: 0.9844\n",
      "Epoch 18/20\n",
      "95/95 [==============================] - 147s 2s/step - loss: 0.0241 - accuracy: 0.9908 - val_loss: 0.0374 - val_accuracy: 0.9857\n",
      "Epoch 19/20\n",
      "95/95 [==============================] - 151s 2s/step - loss: 0.0280 - accuracy: 0.9908 - val_loss: 0.0374 - val_accuracy: 0.9857\n",
      "Epoch 20/20\n",
      "95/95 [==============================] - 145s 2s/step - loss: 0.0220 - accuracy: 0.9934 - val_loss: 0.0369 - val_accuracy: 0.9870\n"
     ]
    }
   ],
   "source": [
    "# train the head of the network\n",
    "print(\"[INFO] training head...\")\n",
    "H = model.fit(\n",
    "    aug.flow(trainX, trainY, batch_size=BS),\n",
    "    steps_per_epoch=len(trainX) // BS,\n",
    "    validation_data=(testX, testY),\n",
    "    validation_steps=len(testX) // BS,\n",
    "    epochs=EPOCHS)"
   ]
  },
  {
   "cell_type": "markdown",
   "id": "521e0dbb",
   "metadata": {},
   "source": [
    "### Evaluating and saving the model"
   ]
  },
  {
   "cell_type": "code",
   "execution_count": 18,
   "id": "ebb48fff",
   "metadata": {},
   "outputs": [
    {
     "name": "stdout",
     "output_type": "stream",
     "text": [
      "[INFO] evaluating network...\n",
      "24/24 [==============================] - 36s 962ms/step\n",
      "              precision    recall  f1-score   support\n",
      "\n",
      "   with_mask       0.99      0.99      0.99       383\n",
      "without_mask       0.99      0.99      0.99       384\n",
      "\n",
      "    accuracy                           0.99       767\n",
      "   macro avg       0.99      0.99      0.99       767\n",
      "weighted avg       0.99      0.99      0.99       767\n",
      "\n",
      "[INFO] saving mask detector model...\n"
     ]
    }
   ],
   "source": [
    "# make predictions on the testing set\n",
    "print(\"[INFO] evaluating network...\")\n",
    "predIdxs = model.predict(testX, batch_size=BS)\n",
    "\n",
    "# for each image in the testing set we need to find the index of the\n",
    "# label with corresponding largest predicted probability\n",
    "predIdxs = np.argmax(predIdxs, axis=1)\n",
    "\n",
    "# show a nicely formatted classification report\n",
    "print(classification_report(testY.argmax(axis=1), predIdxs,\n",
    "    target_names=lb.classes_))\n",
    "\n",
    "# serialize the model to disk\n",
    "print(\"[INFO] saving mask detector model...\")\n",
    "model.save(\"mask_detector.model\", save_format=\"h5\")"
   ]
  },
  {
   "cell_type": "code",
   "execution_count": 19,
   "id": "69d2da6e",
   "metadata": {},
   "outputs": [
    {
     "data": {
      "image/png": "[encoded data removed]",
      "text/plain": [
       "<Figure size 640x480 with 1 Axes>"
      ]
     },
     "metadata": {},
     "output_type": "display_data"
    }
   ],
   "source": [
    "# plot the training loss and accuracy\n",
    "N = EPOCHS\n",
    "plt.style.use(\"ggplot\")\n",
    "plt.figure()\n",
    "plt.plot(np.arange(0, N), H.history[\"loss\"], label=\"train_loss\")\n",
    "plt.plot(np.arange(0, N), H.history[\"val_loss\"], label=\"val_loss\")\n",
    "plt.plot(np.arange(0, N), H.history[\"accuracy\"], label=\"train_acc\")\n",
    "plt.plot(np.arange(0, N), H.history[\"val_accuracy\"], label=\"val_acc\")\n",
    "plt.title(\"Training Loss and Accuracy\")\n",
    "plt.xlabel(\"Epoch #\")\n",
    "plt.ylabel(\"Loss/Accuracy\")\n",
    "plt.legend(loc=\"lower left\")\n",
    "plt.savefig(\"plot.png\")"
   ]
  },
  {
   "cell_type": "code",
   "execution_count": null,
   "id": "dc5db1a9",
   "metadata": {},
   "outputs": [],
   "source": []
  }
 ],
 "metadata": {
  "kernelspec": {
   "display_name": "Python 3 (ipykernel)",
   "language": "python",
   "name": "python3"
  },
  "language_info": {
   "codemirror_mode": {
    "name": "ipython",
    "version": 3
   },
   "file_extension": ".py",
   "mimetype": "text/x-python",
   "name": "python",
   "nbconvert_exporter": "python",
   "pygments_lexer": "ipython3",
   "version": "3.8.8"
  }
 },
 "nbformat": 4,
 "nbformat_minor": 5
}
